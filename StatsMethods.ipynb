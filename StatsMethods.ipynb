{
  "nbformat": 4,
  "nbformat_minor": 0,
  "metadata": {
    "colab": {
      "name": "StatsMethods.ipynb",
      "provenance": [],
      "authorship_tag": "ABX9TyON7oQpCzGlHCETZtqs2ACz",
      "include_colab_link": true
    },
    "kernelspec": {
      "name": "python3",
      "display_name": "Python 3"
    },
    "language_info": {
      "name": "python"
    }
  },
  "cells": [
    {
      "cell_type": "markdown",
      "metadata": {
        "id": "view-in-github",
        "colab_type": "text"
      },
      "source": [
        "<a href=\"https://colab.research.google.com/github/decadeofdata/Python-statistics-and-probability/blob/main/StatsMethods.ipynb\" target=\"_parent\"><img src=\"https://colab.research.google.com/assets/colab-badge.svg\" alt=\"Open In Colab\"/></a>"
      ]
    },
    {
      "cell_type": "markdown",
      "source": [
        "## Bernoulli "
      ],
      "metadata": {
        "id": "TjaDjtfwP2hG"
      }
    },
    {
      "cell_type": "markdown",
      "source": [
        "I havent workout which one to use. "
      ],
      "metadata": {
        "id": "GCidSJZ5g7NQ"
      }
    },
    {
      "cell_type": "code",
      "execution_count": 4,
      "metadata": {
        "colab": {
          "base_uri": "https://localhost:8080/"
        },
        "id": "VdXwcp3yK0bc",
        "outputId": "384dcbe6-2387-404a-dd18-15a796e73bdd"
      },
      "outputs": [
        {
          "output_type": "stream",
          "name": "stdout",
          "text": [
            "RV : \n",
            " <scipy.stats._distn_infrastructure.rv_frozen object at 0x7fb66b868510>\n"
          ]
        }
      ],
      "source": [
        "# importing library\n",
        "  \n",
        "from scipy.stats import bernoulli \n",
        "    \n",
        "numargs = bernoulli.numargs \n",
        "a, b = 0.5, 5\n",
        "rv = bernoulli (6, 0.5) \n",
        "    \n",
        "print (\"RV : \\n\", rv)  "
      ]
    },
    {
      "cell_type": "code",
      "source": [
        "def perform_bernoulli_trials(n, p):\n",
        "    \"\"\"Perform n Bernoulli trials with success probability p\n",
        "    and return number of successes.\"\"\"\n",
        "    # Initialize number of successes: n_success\n",
        "    n_success = 0\n",
        "# Perform trials\n",
        "    for i in range(n):\n",
        "        # Choose random number between zero and one: random_number\n",
        "        random_number = np.random.random()\n",
        "# If less than p, it's a success  so add one to n_success\n",
        "        if random_number < p:\n",
        "            n_success += 1\n",
        "    return n_success"
      ],
      "metadata": {
        "id": "jRcpPZbHQOZ9"
      },
      "execution_count": 11,
      "outputs": []
    },
    {
      "cell_type": "code",
      "source": [
        "perform_bernoulli_trials(6, 0.5)"
      ],
      "metadata": {
        "colab": {
          "base_uri": "https://localhost:8080/"
        },
        "id": "dxWee5VNcTKB",
        "outputId": "8ac249d4-c6cc-4bfa-9833-737643a78760"
      },
      "execution_count": 13,
      "outputs": [
        {
          "output_type": "execute_result",
          "data": {
            "text/plain": [
              "4"
            ]
          },
          "metadata": {},
          "execution_count": 13
        }
      ]
    },
    {
      "cell_type": "code",
      "source": [
        ""
      ],
      "metadata": {
        "id": "IFQqn9fUdT5B"
      },
      "execution_count": null,
      "outputs": []
    }
  ]
}